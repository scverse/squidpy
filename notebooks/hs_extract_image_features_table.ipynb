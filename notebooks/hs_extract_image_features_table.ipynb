{
 "cells": [
  {
   "cell_type": "markdown",
   "metadata": {},
   "source": [
    "# Feature table calculation in action\n",
    "## load data"
   ]
  },
  {
   "cell_type": "code",
   "execution_count": 1,
   "metadata": {
    "ExecuteTime": {
     "end_time": "2020-12-08T12:57:01.428561Z",
     "start_time": "2020-12-08T12:56:58.690469Z"
    }
   },
   "outputs": [],
   "source": [
    "import scanpy as sc\n",
    "import pandas as pd\n",
    "import numpy as np\n",
    "import matplotlib.pyplot as plt\n",
    "import os\n",
    "import time\n",
    "\n",
    "import squidpy as sp\n",
    "\n",
    "import skimage.feature as sk_image\n",
    "\n",
    "# path to \"raw\" dataset folder\n",
    "# BASE_PATH = \"../../data\"\n",
    "BASE_PATH = \"/storage/groups/ml01/datasets/raw/20200909_PublicVisium_giovanni.palla\"\n",
    "dataset_name = \"V1_Adult_Mouse_Brain\"\n",
    "dataset_folder = os.path.join(\n",
    "    BASE_PATH, \"20191205_10XVisium_MouseBrainCoronal_giovanni.palla\"\n",
    ")\n",
    "image_file = os.path.join(dataset_folder, f\"{dataset_name}_image.tif\")"
   ]
  },
  {
   "cell_type": "code",
   "execution_count": 2,
   "metadata": {
    "ExecuteTime": {
     "end_time": "2020-12-08T12:57:04.757953Z",
     "start_time": "2020-12-08T12:57:01.432537Z"
    }
   },
   "outputs": [
    {
     "name": "stderr",
     "output_type": "stream",
     "text": [
      "Variable names are not unique. To make them unique, call `.var_names_make_unique`.\n",
      "Variable names are not unique. To make them unique, call `.var_names_make_unique`.\n",
      "/home/marius.lange/miniconda3/envs/squidpy/lib/python3.8/site-packages/rasterio/__init__.py:221: NotGeoreferencedWarning: Dataset has no geotransform set. The identity matrix may be returned.\n",
      "  s = DatasetReader(path, driver=driver, sharing=sharing, **kwargs)\n"
     ]
    }
   ],
   "source": [
    "# read the corresponding adata object\n",
    "adata = sc.read_visium(\n",
    "    dataset_folder, count_file=f\"{dataset_name}_filtered_feature_bc_matrix.h5\"\n",
    ")\n",
    "img = sp.im.ImageContainer(image_file)"
   ]
  },
  {
   "cell_type": "markdown",
   "metadata": {},
   "source": [
    "## Example of calculating the feature table\n",
    "The available feature in the current version are: \"hog\", \"texture\", \"summary\", \"color_hist\"\n"
   ]
  },
  {
   "cell_type": "code",
   "execution_count": 3,
   "metadata": {
    "ExecuteTime": {
     "end_time": "2020-12-08T12:57:04.764902Z",
     "start_time": "2020-12-08T12:57:04.760997Z"
    }
   },
   "outputs": [],
   "source": [
    "features = features=[\"hog\", \"texture\", \"summary\", \"color_hist\"]"
   ]
  },
  {
   "cell_type": "markdown",
   "metadata": {},
   "source": [
    "### write table in adata.obsm"
   ]
  },
  {
   "cell_type": "code",
   "execution_count": 4,
   "metadata": {
    "ExecuteTime": {
     "end_time": "2020-12-08T12:57:23.330212Z",
     "start_time": "2020-12-08T12:57:04.767309Z"
    }
   },
   "outputs": [
    {
     "data": {
      "application/vnd.jupyter.widget-view+json": {
       "model_id": "204702727e56463299f3dec9f368b91a",
       "version_major": 2,
       "version_minor": 0
      },
      "text/plain": [
       "HBox(children=(HTML(value=''), FloatProgress(value=0.0, max=2698.0), HTML(value='')))"
      ]
     },
     "metadata": {},
     "output_type": "display_data"
    },
    {
     "name": "stdout",
     "output_type": "stream",
     "text": [
      "\n"
     ]
    }
   ],
   "source": [
    "sp.im.calculate_image_features(adata, img, ['summary'], key='features')\n"
   ]
  },
  {
   "cell_type": "code",
   "execution_count": 5,
   "metadata": {
    "ExecuteTime": {
     "end_time": "2020-12-08T12:57:23.380155Z",
     "start_time": "2020-12-08T12:57:23.334639Z"
    }
   },
   "outputs": [
    {
     "data": {
      "text/html": [
       "<div>\n",
       "<style scoped>\n",
       "    .dataframe tbody tr th:only-of-type {\n",
       "        vertical-align: middle;\n",
       "    }\n",
       "\n",
       "    .dataframe tbody tr th {\n",
       "        vertical-align: top;\n",
       "    }\n",
       "\n",
       "    .dataframe thead th {\n",
       "        text-align: right;\n",
       "    }\n",
       "</style>\n",
       "<table border=\"1\" class=\"dataframe\">\n",
       "  <thead>\n",
       "    <tr style=\"text-align: right;\">\n",
       "      <th></th>\n",
       "      <th>summary_quantile_0.9_ch_0</th>\n",
       "      <th>summary_quantile_0.5_ch_0</th>\n",
       "      <th>summary_quantile_0.1_ch_0</th>\n",
       "      <th>summary_quantile_0.9_ch_1</th>\n",
       "      <th>summary_quantile_0.5_ch_1</th>\n",
       "      <th>summary_quantile_0.1_ch_1</th>\n",
       "      <th>summary_quantile_0.9_ch_2</th>\n",
       "      <th>summary_quantile_0.5_ch_2</th>\n",
       "      <th>summary_quantile_0.1_ch_2</th>\n",
       "    </tr>\n",
       "  </thead>\n",
       "  <tbody>\n",
       "    <tr>\n",
       "      <th>AAACAAGTATCTCCCA-1</th>\n",
       "      <td>132.0</td>\n",
       "      <td>111.0</td>\n",
       "      <td>77.0</td>\n",
       "      <td>102.0</td>\n",
       "      <td>79.0</td>\n",
       "      <td>54.0</td>\n",
       "      <td>138.0</td>\n",
       "      <td>111.0</td>\n",
       "      <td>88.0</td>\n",
       "    </tr>\n",
       "    <tr>\n",
       "      <th>AAACAATCTACTAGCA-1</th>\n",
       "      <td>140.0</td>\n",
       "      <td>111.0</td>\n",
       "      <td>80.0</td>\n",
       "      <td>87.0</td>\n",
       "      <td>60.0</td>\n",
       "      <td>39.0</td>\n",
       "      <td>135.0</td>\n",
       "      <td>108.0</td>\n",
       "      <td>84.0</td>\n",
       "    </tr>\n",
       "    <tr>\n",
       "      <th>AAACACCAATAACTGC-1</th>\n",
       "      <td>132.0</td>\n",
       "      <td>116.0</td>\n",
       "      <td>89.0</td>\n",
       "      <td>109.0</td>\n",
       "      <td>91.0</td>\n",
       "      <td>67.0</td>\n",
       "      <td>130.0</td>\n",
       "      <td>117.0</td>\n",
       "      <td>97.0</td>\n",
       "    </tr>\n",
       "    <tr>\n",
       "      <th>AAACAGAGCGACTCCT-1</th>\n",
       "      <td>136.0</td>\n",
       "      <td>116.0</td>\n",
       "      <td>93.0</td>\n",
       "      <td>115.0</td>\n",
       "      <td>82.0</td>\n",
       "      <td>58.0</td>\n",
       "      <td>137.0</td>\n",
       "      <td>113.0</td>\n",
       "      <td>89.0</td>\n",
       "    </tr>\n",
       "    <tr>\n",
       "      <th>AAACCGGGTAGGTACC-1</th>\n",
       "      <td>137.0</td>\n",
       "      <td>112.0</td>\n",
       "      <td>83.0</td>\n",
       "      <td>103.0</td>\n",
       "      <td>78.0</td>\n",
       "      <td>54.0</td>\n",
       "      <td>133.0</td>\n",
       "      <td>113.0</td>\n",
       "      <td>92.0</td>\n",
       "    </tr>\n",
       "    <tr>\n",
       "      <th>...</th>\n",
       "      <td>...</td>\n",
       "      <td>...</td>\n",
       "      <td>...</td>\n",
       "      <td>...</td>\n",
       "      <td>...</td>\n",
       "      <td>...</td>\n",
       "      <td>...</td>\n",
       "      <td>...</td>\n",
       "      <td>...</td>\n",
       "    </tr>\n",
       "    <tr>\n",
       "      <th>TTGTTGTGTGTCAAGA-1</th>\n",
       "      <td>135.0</td>\n",
       "      <td>107.0</td>\n",
       "      <td>45.0</td>\n",
       "      <td>104.0</td>\n",
       "      <td>74.0</td>\n",
       "      <td>33.0</td>\n",
       "      <td>143.0</td>\n",
       "      <td>111.0</td>\n",
       "      <td>74.0</td>\n",
       "    </tr>\n",
       "    <tr>\n",
       "      <th>TTGTTTCACATCCAGG-1</th>\n",
       "      <td>139.0</td>\n",
       "      <td>107.0</td>\n",
       "      <td>64.0</td>\n",
       "      <td>112.0</td>\n",
       "      <td>81.0</td>\n",
       "      <td>49.0</td>\n",
       "      <td>140.0</td>\n",
       "      <td>113.0</td>\n",
       "      <td>84.0</td>\n",
       "    </tr>\n",
       "    <tr>\n",
       "      <th>TTGTTTCATTAGTCTA-1</th>\n",
       "      <td>135.0</td>\n",
       "      <td>111.0</td>\n",
       "      <td>73.0</td>\n",
       "      <td>107.0</td>\n",
       "      <td>81.0</td>\n",
       "      <td>54.0</td>\n",
       "      <td>134.0</td>\n",
       "      <td>114.0</td>\n",
       "      <td>89.0</td>\n",
       "    </tr>\n",
       "    <tr>\n",
       "      <th>TTGTTTCCATACAACT-1</th>\n",
       "      <td>136.0</td>\n",
       "      <td>110.0</td>\n",
       "      <td>77.0</td>\n",
       "      <td>99.0</td>\n",
       "      <td>73.0</td>\n",
       "      <td>49.0</td>\n",
       "      <td>133.0</td>\n",
       "      <td>112.0</td>\n",
       "      <td>88.0</td>\n",
       "    </tr>\n",
       "    <tr>\n",
       "      <th>TTGTTTGTGTAAATTC-1</th>\n",
       "      <td>139.0</td>\n",
       "      <td>115.0</td>\n",
       "      <td>81.0</td>\n",
       "      <td>122.0</td>\n",
       "      <td>93.0</td>\n",
       "      <td>62.0</td>\n",
       "      <td>140.0</td>\n",
       "      <td>118.0</td>\n",
       "      <td>92.0</td>\n",
       "    </tr>\n",
       "  </tbody>\n",
       "</table>\n",
       "<p>2698 rows × 9 columns</p>\n",
       "</div>"
      ],
      "text/plain": [
       "                    summary_quantile_0.9_ch_0  summary_quantile_0.5_ch_0  \\\n",
       "AAACAAGTATCTCCCA-1                      132.0                      111.0   \n",
       "AAACAATCTACTAGCA-1                      140.0                      111.0   \n",
       "AAACACCAATAACTGC-1                      132.0                      116.0   \n",
       "AAACAGAGCGACTCCT-1                      136.0                      116.0   \n",
       "AAACCGGGTAGGTACC-1                      137.0                      112.0   \n",
       "...                                       ...                        ...   \n",
       "TTGTTGTGTGTCAAGA-1                      135.0                      107.0   \n",
       "TTGTTTCACATCCAGG-1                      139.0                      107.0   \n",
       "TTGTTTCATTAGTCTA-1                      135.0                      111.0   \n",
       "TTGTTTCCATACAACT-1                      136.0                      110.0   \n",
       "TTGTTTGTGTAAATTC-1                      139.0                      115.0   \n",
       "\n",
       "                    summary_quantile_0.1_ch_0  summary_quantile_0.9_ch_1  \\\n",
       "AAACAAGTATCTCCCA-1                       77.0                      102.0   \n",
       "AAACAATCTACTAGCA-1                       80.0                       87.0   \n",
       "AAACACCAATAACTGC-1                       89.0                      109.0   \n",
       "AAACAGAGCGACTCCT-1                       93.0                      115.0   \n",
       "AAACCGGGTAGGTACC-1                       83.0                      103.0   \n",
       "...                                       ...                        ...   \n",
       "TTGTTGTGTGTCAAGA-1                       45.0                      104.0   \n",
       "TTGTTTCACATCCAGG-1                       64.0                      112.0   \n",
       "TTGTTTCATTAGTCTA-1                       73.0                      107.0   \n",
       "TTGTTTCCATACAACT-1                       77.0                       99.0   \n",
       "TTGTTTGTGTAAATTC-1                       81.0                      122.0   \n",
       "\n",
       "                    summary_quantile_0.5_ch_1  summary_quantile_0.1_ch_1  \\\n",
       "AAACAAGTATCTCCCA-1                       79.0                       54.0   \n",
       "AAACAATCTACTAGCA-1                       60.0                       39.0   \n",
       "AAACACCAATAACTGC-1                       91.0                       67.0   \n",
       "AAACAGAGCGACTCCT-1                       82.0                       58.0   \n",
       "AAACCGGGTAGGTACC-1                       78.0                       54.0   \n",
       "...                                       ...                        ...   \n",
       "TTGTTGTGTGTCAAGA-1                       74.0                       33.0   \n",
       "TTGTTTCACATCCAGG-1                       81.0                       49.0   \n",
       "TTGTTTCATTAGTCTA-1                       81.0                       54.0   \n",
       "TTGTTTCCATACAACT-1                       73.0                       49.0   \n",
       "TTGTTTGTGTAAATTC-1                       93.0                       62.0   \n",
       "\n",
       "                    summary_quantile_0.9_ch_2  summary_quantile_0.5_ch_2  \\\n",
       "AAACAAGTATCTCCCA-1                      138.0                      111.0   \n",
       "AAACAATCTACTAGCA-1                      135.0                      108.0   \n",
       "AAACACCAATAACTGC-1                      130.0                      117.0   \n",
       "AAACAGAGCGACTCCT-1                      137.0                      113.0   \n",
       "AAACCGGGTAGGTACC-1                      133.0                      113.0   \n",
       "...                                       ...                        ...   \n",
       "TTGTTGTGTGTCAAGA-1                      143.0                      111.0   \n",
       "TTGTTTCACATCCAGG-1                      140.0                      113.0   \n",
       "TTGTTTCATTAGTCTA-1                      134.0                      114.0   \n",
       "TTGTTTCCATACAACT-1                      133.0                      112.0   \n",
       "TTGTTTGTGTAAATTC-1                      140.0                      118.0   \n",
       "\n",
       "                    summary_quantile_0.1_ch_2  \n",
       "AAACAAGTATCTCCCA-1                       88.0  \n",
       "AAACAATCTACTAGCA-1                       84.0  \n",
       "AAACACCAATAACTGC-1                       97.0  \n",
       "AAACAGAGCGACTCCT-1                       89.0  \n",
       "AAACCGGGTAGGTACC-1                       92.0  \n",
       "...                                       ...  \n",
       "TTGTTGTGTGTCAAGA-1                       74.0  \n",
       "TTGTTTCACATCCAGG-1                       84.0  \n",
       "TTGTTTCATTAGTCTA-1                       89.0  \n",
       "TTGTTTCCATACAACT-1                       88.0  \n",
       "TTGTTTGTGTAAATTC-1                       92.0  \n",
       "\n",
       "[2698 rows x 9 columns]"
      ]
     },
     "execution_count": 5,
     "metadata": {},
     "output_type": "execute_result"
    }
   ],
   "source": [
    "adata.obsm['features']"
   ]
  },
  {
   "cell_type": "markdown",
   "metadata": {},
   "source": [
    "### return features table"
   ]
  },
  {
   "cell_type": "code",
   "execution_count": 6,
   "metadata": {
    "ExecuteTime": {
     "end_time": "2020-12-08T12:57:23.793629Z",
     "start_time": "2020-12-08T12:57:23.383577Z"
    }
   },
   "outputs": [
    {
     "data": {
      "application/vnd.jupyter.widget-view+json": {
       "model_id": "ddc776f39a6f40908887eff3b5bac5db",
       "version_major": 2,
       "version_minor": 0
      },
      "text/plain": [
       "HBox(children=(HTML(value=''), FloatProgress(value=0.0, max=10.0), HTML(value='')))"
      ]
     },
     "metadata": {},
     "output_type": "display_data"
    },
    {
     "name": "stderr",
     "output_type": "stream",
     "text": [
      "Variable names are not unique. To make them unique, call `.var_names_make_unique`.\n",
      "Variable names are not unique. To make them unique, call `.var_names_make_unique`.\n"
     ]
    },
    {
     "name": "stdout",
     "output_type": "stream",
     "text": [
      "\n"
     ]
    }
   ],
   "source": [
    "feature_table = sp.im.calculate_image_features(adata[0:10], img, ['summary'])\n",
    "feature_table"
   ]
  },
  {
   "cell_type": "markdown",
   "metadata": {},
   "source": [
    "### change size and scale of crops"
   ]
  },
  {
   "cell_type": "code",
   "execution_count": 7,
   "metadata": {
    "ExecuteTime": {
     "end_time": "2020-12-08T12:57:24.162077Z",
     "start_time": "2020-12-08T12:57:23.798196Z"
    }
   },
   "outputs": [
    {
     "data": {
      "application/vnd.jupyter.widget-view+json": {
       "model_id": "9e1cb1b3cbd04fe4b4c6f3cb977a1027",
       "version_major": 2,
       "version_minor": 0
      },
      "text/plain": [
       "HBox(children=(HTML(value=''), FloatProgress(value=0.0, max=10.0), HTML(value='')))"
      ]
     },
     "metadata": {},
     "output_type": "display_data"
    },
    {
     "name": "stderr",
     "output_type": "stream",
     "text": [
      "Variable names are not unique. To make them unique, call `.var_names_make_unique`.\n",
      "Variable names are not unique. To make them unique, call `.var_names_make_unique`.\n"
     ]
    },
    {
     "name": "stdout",
     "output_type": "stream",
     "text": [
      "\n"
     ]
    }
   ],
   "source": [
    "feature_table = sp.im.calculate_image_features(adata[0:10], img, ['summary'], size=2, scale=0.5)\n",
    "feature_table"
   ]
  },
  {
   "cell_type": "markdown",
   "metadata": {},
   "source": [
    "# Parallelization performance"
   ]
  },
  {
   "cell_type": "markdown",
   "metadata": {},
   "source": [
    "## Single core"
   ]
  },
  {
   "cell_type": "code",
   "execution_count": 8,
   "metadata": {
    "ExecuteTime": {
     "end_time": "2020-12-08T12:59:10.405668Z",
     "start_time": "2020-12-08T12:57:24.168984Z"
    }
   },
   "outputs": [
    {
     "name": "stdout",
     "output_type": "stream",
     "text": [
      "13.2 s ± 18 ms per loop (mean ± std. dev. of 7 runs, 1 loop each)\n"
     ]
    }
   ],
   "source": [
    "%%timeit\n",
    "sp.im.calculate_image_features(adata, img, ['summary'], key='features',\n",
    "                               n_jobs=1, show_progress_bar=False)"
   ]
  },
  {
   "cell_type": "markdown",
   "metadata": {},
   "source": [
    "## 8 cores"
   ]
  },
  {
   "cell_type": "code",
   "execution_count": 9,
   "metadata": {
    "ExecuteTime": {
     "end_time": "2020-12-08T12:59:38.389656Z",
     "start_time": "2020-12-08T12:59:10.409484Z"
    }
   },
   "outputs": [
    {
     "name": "stdout",
     "output_type": "stream",
     "text": [
      "3.13 s ± 61 ms per loop (mean ± std. dev. of 7 runs, 1 loop each)\n"
     ]
    }
   ],
   "source": [
    "%%timeit\n",
    "sp.im.calculate_image_features(adata, img, ['summary'], key='features',\n",
    "                               n_jobs=8, show_progress_bar=False)"
   ]
  }
 ],
 "metadata": {
  "kernelspec": {
   "display_name": "squidpy",
   "language": "python",
   "name": "squidpy"
  },
  "language_info": {
   "codemirror_mode": {
    "name": "ipython",
    "version": 3
   },
   "file_extension": ".py",
   "mimetype": "text/x-python",
   "name": "python",
   "nbconvert_exporter": "python",
   "pygments_lexer": "ipython3",
   "version": "3.8.5"
  },
  "toc": {
   "base_numbering": 1,
   "nav_menu": {},
   "number_sections": true,
   "sideBar": true,
   "skip_h1_title": false,
   "title_cell": "Table of Contents",
   "title_sidebar": "Contents",
   "toc_cell": false,
   "toc_position": {},
   "toc_section_display": true,
   "toc_window_display": false
  },
  "varInspector": {
   "cols": {
    "lenName": 16,
    "lenType": 16,
    "lenVar": 40
   },
   "kernels_config": {
    "python": {
     "delete_cmd_postfix": "",
     "delete_cmd_prefix": "del ",
     "library": "var_list.py",
     "varRefreshCmd": "print(var_dic_list())"
    },
    "r": {
     "delete_cmd_postfix": ") ",
     "delete_cmd_prefix": "rm(",
     "library": "var_list.r",
     "varRefreshCmd": "cat(var_dic_list()) "
    }
   },
   "types_to_exclude": [
    "module",
    "function",
    "builtin_function_or_method",
    "instance",
    "_Feature"
   ],
   "window_display": false
  }
 },
 "nbformat": 4,
 "nbformat_minor": 4
}
